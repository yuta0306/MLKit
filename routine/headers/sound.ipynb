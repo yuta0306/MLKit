{
 "cells": [
  {
   "cell_type": "markdown",
   "metadata": {},
   "source": [
    "## Dependencies"
   ]
  },
  {
   "cell_type": "code",
   "execution_count": 1,
   "metadata": {},
   "outputs": [
    {
     "name": "stdout",
     "output_type": "stream",
     "text": [
      "Requirement already satisfied: timm in /Users/slothyubo/opt/anaconda3/lib/python3.8/site-packages (0.4.5)\n",
      "Requirement already satisfied: torchvision in /Users/slothyubo/opt/anaconda3/lib/python3.8/site-packages (from timm) (0.8.2)\n",
      "Requirement already satisfied: torch>=1.4 in /Users/slothyubo/opt/anaconda3/lib/python3.8/site-packages (from timm) (1.7.1)\n",
      "Requirement already satisfied: typing-extensions in /Users/slothyubo/opt/anaconda3/lib/python3.8/site-packages (from torch>=1.4->timm) (3.7.4.2)\n",
      "Requirement already satisfied: numpy in /Users/slothyubo/opt/anaconda3/lib/python3.8/site-packages (from torch>=1.4->timm) (1.19.5)\n",
      "Requirement already satisfied: pillow>=4.1.1 in /Users/slothyubo/opt/anaconda3/lib/python3.8/site-packages (from torchvision->timm) (8.1.0)\n",
      "Requirement already satisfied: numpy in /Users/slothyubo/opt/anaconda3/lib/python3.8/site-packages (from torch>=1.4->timm) (1.19.5)\n",
      "Requirement already satisfied: torch>=1.4 in /Users/slothyubo/opt/anaconda3/lib/python3.8/site-packages (from timm) (1.7.1)\n",
      "Requirement already satisfied: torchlibrosa in /Users/slothyubo/opt/anaconda3/lib/python3.8/site-packages (0.0.9)\n",
      "Requirement already satisfied: numpy in /Users/slothyubo/opt/anaconda3/lib/python3.8/site-packages (from torchlibrosa) (1.19.5)\n",
      "Requirement already satisfied: librosa>=0.6.0 in /Users/slothyubo/opt/anaconda3/lib/python3.8/site-packages (from torchlibrosa) (0.8.0)\n",
      "Requirement already satisfied: soundfile>=0.9.0 in /Users/slothyubo/opt/anaconda3/lib/python3.8/site-packages (from librosa>=0.6.0->torchlibrosa) (0.10.3.post1)\n",
      "Requirement already satisfied: audioread>=2.0.0 in /Users/slothyubo/opt/anaconda3/lib/python3.8/site-packages (from librosa>=0.6.0->torchlibrosa) (2.1.9)\n",
      "Requirement already satisfied: numba>=0.43.0 in /Users/slothyubo/opt/anaconda3/lib/python3.8/site-packages (from librosa>=0.6.0->torchlibrosa) (0.51.2)\n",
      "Requirement already satisfied: resampy>=0.2.2 in /Users/slothyubo/opt/anaconda3/lib/python3.8/site-packages (from librosa>=0.6.0->torchlibrosa) (0.2.2)\n",
      "Requirement already satisfied: numpy in /Users/slothyubo/opt/anaconda3/lib/python3.8/site-packages (from torchlibrosa) (1.19.5)\n",
      "Requirement already satisfied: joblib>=0.14 in /Users/slothyubo/opt/anaconda3/lib/python3.8/site-packages (from librosa>=0.6.0->torchlibrosa) (0.16.0)\n",
      "Requirement already satisfied: decorator>=3.0.0 in /Users/slothyubo/opt/anaconda3/lib/python3.8/site-packages (from librosa>=0.6.0->torchlibrosa) (4.4.2)\n",
      "Requirement already satisfied: scikit-learn!=0.19.0,>=0.14.0 in /Users/slothyubo/opt/anaconda3/lib/python3.8/site-packages (from librosa>=0.6.0->torchlibrosa) (0.23.2)\n",
      "Requirement already satisfied: scipy>=1.0.0 in /Users/slothyubo/opt/anaconda3/lib/python3.8/site-packages (from librosa>=0.6.0->torchlibrosa) (1.5.2)\n",
      "Requirement already satisfied: pooch>=1.0 in /Users/slothyubo/opt/anaconda3/lib/python3.8/site-packages (from librosa>=0.6.0->torchlibrosa) (1.3.0)\n",
      "Requirement already satisfied: llvmlite<0.35,>=0.34.0.dev0 in /Users/slothyubo/opt/anaconda3/lib/python3.8/site-packages (from numba>=0.43.0->librosa>=0.6.0->torchlibrosa) (0.34.0)\n",
      "Requirement already satisfied: setuptools in /Users/slothyubo/opt/anaconda3/lib/python3.8/site-packages (from numba>=0.43.0->librosa>=0.6.0->torchlibrosa) (51.0.0.post20201207)\n",
      "Requirement already satisfied: numpy in /Users/slothyubo/opt/anaconda3/lib/python3.8/site-packages (from torchlibrosa) (1.19.5)\n",
      "Requirement already satisfied: appdirs in /Users/slothyubo/opt/anaconda3/lib/python3.8/site-packages (from pooch>=1.0->librosa>=0.6.0->torchlibrosa) (1.4.4)\n",
      "Requirement already satisfied: packaging in /Users/slothyubo/opt/anaconda3/lib/python3.8/site-packages (from pooch>=1.0->librosa>=0.6.0->torchlibrosa) (20.4)\n",
      "Requirement already satisfied: requests in /Users/slothyubo/.local/lib/python3.8/site-packages (from pooch>=1.0->librosa>=0.6.0->torchlibrosa) (2.25.1)\n",
      "Requirement already satisfied: pyparsing>=2.0.2 in /Users/slothyubo/opt/anaconda3/lib/python3.8/site-packages (from packaging->pooch>=1.0->librosa>=0.6.0->torchlibrosa) (2.4.7)\n",
      "Requirement already satisfied: six in /Users/slothyubo/.local/lib/python3.8/site-packages (from packaging->pooch>=1.0->librosa>=0.6.0->torchlibrosa) (1.15.0)\n",
      "Requirement already satisfied: idna<3,>=2.5 in /Users/slothyubo/.local/lib/python3.8/site-packages (from requests->pooch>=1.0->librosa>=0.6.0->torchlibrosa) (2.10)\n",
      "Requirement already satisfied: chardet<5,>=3.0.2 in /Users/slothyubo/.local/lib/python3.8/site-packages (from requests->pooch>=1.0->librosa>=0.6.0->torchlibrosa) (4.0.0)\n",
      "Requirement already satisfied: urllib3<1.27,>=1.21.1 in /Users/slothyubo/.local/lib/python3.8/site-packages (from requests->pooch>=1.0->librosa>=0.6.0->torchlibrosa) (1.26.2)\n",
      "Requirement already satisfied: certifi>=2017.4.17 in /Users/slothyubo/opt/anaconda3/lib/python3.8/site-packages (from requests->pooch>=1.0->librosa>=0.6.0->torchlibrosa) (2020.12.5)\n",
      "Requirement already satisfied: six in /Users/slothyubo/.local/lib/python3.8/site-packages (from packaging->pooch>=1.0->librosa>=0.6.0->torchlibrosa) (1.15.0)\n",
      "Requirement already satisfied: numba>=0.43.0 in /Users/slothyubo/opt/anaconda3/lib/python3.8/site-packages (from librosa>=0.6.0->torchlibrosa) (0.51.2)\n",
      "Requirement already satisfied: numpy in /Users/slothyubo/opt/anaconda3/lib/python3.8/site-packages (from torchlibrosa) (1.19.5)\n",
      "Requirement already satisfied: scipy>=1.0.0 in /Users/slothyubo/opt/anaconda3/lib/python3.8/site-packages (from librosa>=0.6.0->torchlibrosa) (1.5.2)\n",
      "Requirement already satisfied: joblib>=0.14 in /Users/slothyubo/opt/anaconda3/lib/python3.8/site-packages (from librosa>=0.6.0->torchlibrosa) (0.16.0)\n",
      "Requirement already satisfied: numpy in /Users/slothyubo/opt/anaconda3/lib/python3.8/site-packages (from torchlibrosa) (1.19.5)\n",
      "Requirement already satisfied: scipy>=1.0.0 in /Users/slothyubo/opt/anaconda3/lib/python3.8/site-packages (from librosa>=0.6.0->torchlibrosa) (1.5.2)\n",
      "Requirement already satisfied: threadpoolctl>=2.0.0 in /Users/slothyubo/opt/anaconda3/lib/python3.8/site-packages (from scikit-learn!=0.19.0,>=0.14.0->librosa>=0.6.0->torchlibrosa) (2.1.0)\n",
      "Requirement already satisfied: numpy in /Users/slothyubo/opt/anaconda3/lib/python3.8/site-packages (from torchlibrosa) (1.19.5)\n",
      "Requirement already satisfied: cffi>=1.0 in /Users/slothyubo/opt/anaconda3/lib/python3.8/site-packages (from soundfile>=0.9.0->librosa>=0.6.0->torchlibrosa) (1.14.0)\n",
      "Requirement already satisfied: pycparser in /Users/slothyubo/opt/anaconda3/lib/python3.8/site-packages (from cffi>=1.0->soundfile>=0.9.0->librosa>=0.6.0->torchlibrosa) (2.20)\n"
     ]
    }
   ],
   "source": [
    "!pip install timm\n",
    "!pip install torchlibrosa\n",
    "!pip install catalyst > /dev/null\n",
    "!pip install albumentations > /dev/null"
   ]
  },
  {
   "cell_type": "markdown",
   "metadata": {},
   "source": [
    "## Import Libraries"
   ]
  },
  {
   "cell_type": "code",
   "execution_count": 2,
   "metadata": {},
   "outputs": [],
   "source": [
    "import gc\n",
    "import os\n",
    "import math\n",
    "import random\n",
    "import warnings\n",
    "\n",
    "import albumentations as A\n",
    "import cv2\n",
    "import librosa\n",
    "import numpy as np\n",
    "import pandas as pd\n",
    "import soundfile as sf\n",
    "import timm\n",
    "import torch\n",
    "import torch.optim as optim\n",
    "import torch.nn as nn\n",
    "import torch.nn.functional as F\n",
    "import torch.utils.data as torchdata\n",
    "\n",
    "from pathlib import Path\n",
    "from typing import List, Union, Tuple, Dict, Iterable\n",
    "\n",
    "from albumentations.pytorch import ToTensorV2\n",
    "from albumentations.core.transforms_interface import ImageOnlyTransform\n",
    "from catalyst.core import Callback, CallbackOrder, IRunner\n",
    "from catalyst.dl import Runner, SupervisedRunner\n",
    "from sklearn import model_selection\n",
    "from sklearn import metrics\n",
    "from timm.models.layers import SelectAdaptivePool2d\n",
    "from torch.optim.optimizer import Optimizer\n",
    "from torchlibrosa.stft import LogmelFilterBank, Spectrogram\n",
    "from torchlibrosa.augmentation import SpecAugmentation"
   ]
  },
  {
   "cell_type": "code",
   "execution_count": null,
   "metadata": {},
   "outputs": [],
   "source": []
  }
 ],
 "metadata": {
  "kernelspec": {
   "display_name": "Python 3",
   "language": "python",
   "name": "python3"
  },
  "language_info": {
   "codemirror_mode": {
    "name": "ipython",
    "version": 3
   },
   "file_extension": ".py",
   "mimetype": "text/x-python",
   "name": "python",
   "nbconvert_exporter": "python",
   "pygments_lexer": "ipython3",
   "version": "3.8.0"
  }
 },
 "nbformat": 4,
 "nbformat_minor": 4
}
